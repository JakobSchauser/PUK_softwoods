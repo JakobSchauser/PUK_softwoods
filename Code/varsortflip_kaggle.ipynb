{
 "cells": [
  {
   "cell_type": "code",
   "execution_count": 2,
   "metadata": {},
   "outputs": [],
   "source": [
    "import numpy as np\n",
    "from LoCo_algorithm import *\n",
    "from DAG import *"
   ]
  },
  {
   "cell_type": "code",
   "execution_count": 3,
   "metadata": {},
   "outputs": [],
   "source": [
    "#range of nodes\n",
    "node_range = np.arange(2,21)\n",
    "\n",
    "#range of connectivity\n",
    "con_range = np.arange(0.1,1.1,0.1)\n",
    "\n",
    "#number of repetitions\n",
    "num_reps = 3\n",
    "\n",
    "#number of samples used when finding variance etc.\n",
    "n_samp = 1000"
   ]
  },
  {
   "cell_type": "code",
   "execution_count": 4,
   "metadata": {},
   "outputs": [],
   "source": [
    "flipvarsort_mean = np.zeros((len(node_range), len(con_range)))\n",
    "flipvarsort_std = np.zeros((len(node_range), len(con_range)))"
   ]
  },
  {
   "cell_type": "code",
   "execution_count": null,
   "metadata": {},
   "outputs": [],
   "source": [
    "print('Starting on varsort update \\n')\n",
    "\n",
    "for i,node_number in enumerate(node_range):\n",
    "    print(f'Starting on node number: {node_number}')\n",
    "    for j,con in enumerate(con_range):\n",
    "        flipvarsort_lst =[]\n",
    "        for reps in range(num_reps):\n",
    "            dag = DAG(n = node_number, biass='uniform' , roots=1, precalculate_paths=False, integer=False, connectivity=con)\n",
    "\n",
    "            _, new_varsort = run_loco(dag, update_by_varsort=True, maximize_top_n=None ,\n",
    "                                       VERBOSE=False, check_ways=False, flip_up_to=None, N=n_samp)\n",
    "            flipvarsort_lst.append(new_varsort)\n",
    "\n",
    "        flipvarsort_mean[i,j] = np.array(flipvarsort_lst).mean()\n",
    "        flipvarsort_std[i,j] = np.array(flipvarsort_lst).std()"
   ]
  },
  {
   "cell_type": "code",
   "execution_count": null,
   "metadata": {},
   "outputs": [],
   "source": [
    "np.savetxt('flipvarsort_mean.txt', flipvarsort_mean)\n",
    "np.savetxt('flipvarsort_std.txt', flipvarsort_std)"
   ]
  }
 ],
 "metadata": {
  "kernelspec": {
   "display_name": "base",
   "language": "python",
   "name": "python3"
  },
  "language_info": {
   "codemirror_mode": {
    "name": "ipython",
    "version": 3
   },
   "file_extension": ".py",
   "mimetype": "text/x-python",
   "name": "python",
   "nbconvert_exporter": "python",
   "pygments_lexer": "ipython3",
   "version": "3.8.8"
  },
  "orig_nbformat": 4
 },
 "nbformat": 4,
 "nbformat_minor": 2
}
