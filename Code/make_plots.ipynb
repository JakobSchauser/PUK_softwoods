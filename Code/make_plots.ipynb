{
 "cells": [
  {
   "cell_type": "code",
   "execution_count": 1,
   "metadata": {},
   "outputs": [],
   "source": [
    "import numpy as np\n",
    "import matplotlib.pyplot as plt\n",
    "from pyvis.network import Network\n",
    "from DAG import DAG\n",
    "from gradient_descent import gradient_descent\n",
    "from tqdm.notebook import tqdm\n",
    "from genetic_algorithm import run_genetic_algorithm\n",
    "from LoCo_algorithm import run_loco"
   ]
  },
  {
   "cell_type": "code",
   "execution_count": 32,
   "metadata": {},
   "outputs": [
    {
     "name": "stdout",
     "output_type": "stream",
     "text": [
      "TOP_N_TO_MAX 3\n"
     ]
    }
   ],
   "source": [
    "nd = run_loco(dag, VERBOSE = 0, TOP_N_TO_MAX=3)"
   ]
  },
  {
   "cell_type": "code",
   "execution_count": 39,
   "metadata": {},
   "outputs": [
    {
     "data": {
      "text/plain": [
       "{'smart': 0.7719298245614035}"
      ]
     },
     "execution_count": 39,
     "metadata": {},
     "output_type": "execute_result"
    }
   ],
   "source": [
    "nd.get_varsortability(smart = 1, N = 1000000)"
   ]
  },
  {
   "cell_type": "code",
   "execution_count": 43,
   "metadata": {},
   "outputs": [],
   "source": [
    "from tqdm.notebook import tqdm"
   ]
  },
  {
   "cell_type": "code",
   "execution_count": 41,
   "metadata": {},
   "outputs": [],
   "source": [
    "\n",
    "\n"
   ]
  },
  {
   "cell_type": "code",
   "execution_count": 133,
   "metadata": {},
   "outputs": [],
   "source": [
    "suite = []\n",
    "\n",
    "con = 0.7\n",
    "sizes = [13, 11, 9, 7, 5]\n",
    "for size in sizes:\n",
    "    dag = DAG(n = size, connectivity = con)\n",
    "\n",
    "    suite.append(dag)"
   ]
  },
  {
   "cell_type": "code",
   "execution_count": 137,
   "metadata": {},
   "outputs": [
    {
     "data": {
      "application/vnd.jupyter.widget-view+json": {
       "model_id": "31a65a2fefe0470a8f6f8706c355047b",
       "version_major": 2,
       "version_minor": 0
      },
      "text/plain": [
       "  0%|          | 0/5 [00:00<?, ?it/s]"
      ]
     },
     "metadata": {},
     "output_type": "display_data"
    },
    {
     "name": "stdout",
     "output_type": "stream",
     "text": [
      "size 13\n",
      "running loco\n",
      "TOP_N_TO_MAX 6\n",
      "running genetic\n",
      "running genetic_flip\n",
      "size 11\n",
      "running loco\n",
      "TOP_N_TO_MAX 6\n",
      "running genetic\n",
      "running genetic_flip\n",
      "size 9\n",
      "running loco\n",
      "TOP_N_TO_MAX 6\n",
      "running genetic\n",
      "running genetic_flip\n",
      "size 7\n",
      "running loco\n",
      "TOP_N_TO_MAX 6\n",
      "running genetic\n",
      "running genetic_flip\n",
      "size 5\n",
      "running loco\n",
      "TOP_N_TO_MAX 6\n",
      "TOP_N_TO_MAX 5\n",
      "TOP_N_TO_MAX 4\n",
      "TOP_N_TO_MAX 3\n",
      "running genetic\n",
      "running genetic_flip\n"
     ]
    }
   ],
   "source": [
    "locos = []\n",
    "genetic = []\n",
    "genetic_flip = []\n",
    "\n",
    "\n",
    "from time import time\n",
    "\n",
    "\n",
    "times = []\n",
    "\n",
    "for size, dag in tqdm(zip(sizes,suite), total = len(sizes)):\n",
    "    print(\"size\", size)\n",
    "\n",
    "    print(\"running loco\")\n",
    "    for k in ([6,5,4,3]):\n",
    "        t = time()\n",
    "        nd = run_loco(dag, VERBOSE = 0, TOP_N_TO_MAX=k)\n",
    "        T = time()-t\n",
    "        var = nd.get_varsortability(smart = 1, N = 1000000)[\"smart\"]\n",
    "        if var < 1:\n",
    "            break\n",
    "    locos.append(var)\n",
    "    times.append(T)\n",
    "\n",
    "    print(\"running genetic\")\n",
    "    t = time()\n",
    "    nd = run_genetic_algorithm(dag, population = 10, generations = 10)\n",
    "    times.append(time()-t)\n",
    "    var = nd[0].get_varsortability(smart = 1, N = 1000000)[\"smart\"]\n",
    "    genetic.append(var)\n",
    "\n",
    "    print(\"running genetic_flip\")\n",
    "    t = time()\n",
    "    nd = run_genetic_algorithm(dag, population = 10, generations = 10, flip_only = 1)\n",
    "    times.append(time()-t)\n",
    "    var = nd[0].get_varsortability(smart = 1, N = 1000000)[\"smart\"]\n",
    "    genetic_flip.append(var)\n",
    "\n",
    "np.savetxt(\"locos_07.csv\", np.array(locos), delimiter=\",\")\n",
    "np.savetxt(\"genetic_07.csv\", np.array(genetic), delimiter=\",\")\n",
    "np.savetxt(\"genetic_flip_07.csv\", np.array(genetic_flip), delimiter=\",\")\n",
    "np.savetxt(\"times_07.csv\", np.array(times), delimiter=\",\")\n"
   ]
  },
  {
   "cell_type": "code",
   "execution_count": 138,
   "metadata": {},
   "outputs": [
    {
     "name": "stdout",
     "output_type": "stream",
     "text": [
      "[0.81, 0.8633093525179856, 0.8055555555555556, 0.9736842105263158, 1.0]\n"
     ]
    }
   ],
   "source": [
    "print(locos)\n"
   ]
  },
  {
   "cell_type": "code",
   "execution_count": 139,
   "metadata": {},
   "outputs": [
    {
     "name": "stdout",
     "output_type": "stream",
     "text": [
      "[0.81, 0.8633093525179856, 0.8055555555555556, 0.9736842105263158, 1.0]\n",
      "[0.87, 0.7889908256880734, 0.8095238095238095, 0.7105263157894737, 0.7777777777777778]\n",
      "[0.9481481481481482, 0.9210526315789473, 0.9, 0.9473684210526315, 1.0]\n",
      "[91.14781308174133, 80.25656294822693, 80.48229026794434, 61.59268856048584, 69.63779544830322, 69.71787405014038, 10.662694931030273, 59.09227657318115, 58.96857810020447, 3.7651703357696533, 48.24166965484619, 48.398120403289795, 0.36758875846862793, 37.68380165100098, 37.496779441833496]\n"
     ]
    }
   ],
   "source": [
    "print(locos)\n",
    "print(genetic)\n",
    "print(genetic_flip)\n",
    "print(times)"
   ]
  },
  {
   "cell_type": "code",
   "execution_count": 70,
   "metadata": {},
   "outputs": [],
   "source": [
    "locotime = times[::3]\n",
    "gentime = times[1::3]\n",
    "fliptime = times[2::3]"
   ]
  },
  {
   "cell_type": "code",
   "execution_count": 74,
   "metadata": {},
   "outputs": [
    {
     "data": {
      "text/plain": [
       "[<matplotlib.lines.Line2D at 0x22150170048>]"
      ]
     },
     "execution_count": 74,
     "metadata": {},
     "output_type": "execute_result"
    },
    {
     "data": {
      "image/png": "[encoded data removed]",
      "text/plain": [
       "<Figure size 432x288 with 1 Axes>"
      ]
     },
     "metadata": {
      "needs_background": "light"
     },
     "output_type": "display_data"
    }
   ],
   "source": [
    "plt.plot(locotime[:-1])\n",
    "plt.plot(gentime[:-1])\n",
    "plt.plot(fliptime[:-1])"
   ]
  },
  {
   "cell_type": "code",
   "execution_count": 92,
   "metadata": {},
   "outputs": [
    {
     "data": {
      "text/plain": [
       "[<matplotlib.lines.Line2D at 0x221502577f0>]"
      ]
     },
     "execution_count": 92,
     "metadata": {},
     "output_type": "execute_result"
    },
    {
     "data": {
      "image/png": "[encoded data removed]",
      "text/plain": [
       "<Figure size 432x288 with 1 Axes>"
      ]
     },
     "metadata": {
      "needs_background": "light"
     },
     "output_type": "display_data"
    }
   ],
   "source": [
    "plt.plot(locos)\n",
    "plt.plot(genetic)\n",
    "plt.plot(genetic_flip)"
   ]
  },
  {
   "attachments": {},
   "cell_type": "markdown",
   "metadata": {},
   "source": [
    "# Sweep connectivity"
   ]
  },
  {
   "cell_type": "code",
   "execution_count": 8,
   "metadata": {},
   "outputs": [
    {
     "data": {
      "application/vnd.jupyter.widget-view+json": {
       "model_id": "235007a54b55417dbac9eb3fa1c19f05",
       "version_major": 2,
       "version_minor": 0
      },
      "text/plain": [
       "  0%|          | 0/2 [00:00<?, ?it/s]"
      ]
     },
     "metadata": {},
     "output_type": "display_data"
    },
    {
     "data": {
      "application/vnd.jupyter.widget-view+json": {
       "model_id": "23ee8c4de55e4d2d9c220cb69eb6f08e",
       "version_major": 2,
       "version_minor": 0
      },
      "text/plain": [
       "  0%|          | 0/2 [00:00<?, ?it/s]"
      ]
     },
     "metadata": {},
     "output_type": "display_data"
    },
    {
     "name": "stdout",
     "output_type": "stream",
     "text": [
      "Starting gradient descent\n"
     ]
    },
    {
     "ename": "KeyboardInterrupt",
     "evalue": "",
     "output_type": "error",
     "traceback": [
      "\u001b[1;31m---------------------------------------------------------------------------\u001b[0m",
      "\u001b[1;31mKeyboardInterrupt\u001b[0m                         Traceback (most recent call last)",
      "\u001b[1;32m<ipython-input-8-825e8de9d882>\u001b[0m in \u001b[0;36m<module>\u001b[1;34m\u001b[0m\n\u001b[0;32m     16\u001b[0m             \u001b[0mactual_connections\u001b[0m\u001b[1;33m[\u001b[0m\u001b[0mi\u001b[0m\u001b[1;33m,\u001b[0m\u001b[0mj\u001b[0m\u001b[1;33m]\u001b[0m \u001b[1;33m=\u001b[0m \u001b[1;33m(\u001b[0m\u001b[0mdag\u001b[0m\u001b[1;33m.\u001b[0m\u001b[0madjacency_matrix\u001b[0m \u001b[1;33m!=\u001b[0m \u001b[1;36m0\u001b[0m\u001b[1;33m)\u001b[0m\u001b[1;33m.\u001b[0m\u001b[0msum\u001b[0m\u001b[1;33m(\u001b[0m\u001b[1;33m)\u001b[0m\u001b[1;33m\u001b[0m\u001b[1;33m\u001b[0m\u001b[0m\n\u001b[0;32m     17\u001b[0m             \u001b[0mprint\u001b[0m\u001b[1;33m(\u001b[0m\u001b[1;34m\"Starting gradient descent\"\u001b[0m\u001b[1;33m)\u001b[0m\u001b[1;33m\u001b[0m\u001b[1;33m\u001b[0m\u001b[0m\n\u001b[1;32m---> 18\u001b[1;33m             \u001b[0mbest\u001b[0m \u001b[1;33m=\u001b[0m \u001b[0mgradient_descent\u001b[0m\u001b[1;33m(\u001b[0m\u001b[0mdag\u001b[0m\u001b[1;33m,\u001b[0m \u001b[0mnum_iterations\u001b[0m \u001b[1;33m=\u001b[0m \u001b[1;36m50\u001b[0m\u001b[1;33m,\u001b[0m \u001b[0mlr\u001b[0m \u001b[1;33m=\u001b[0m \u001b[0mlrs\u001b[0m\u001b[1;33m[\u001b[0m\u001b[0ml\u001b[0m\u001b[1;33m]\u001b[0m\u001b[1;33m,\u001b[0m \u001b[0mVERBOSE\u001b[0m \u001b[1;33m=\u001b[0m \u001b[1;32mFalse\u001b[0m\u001b[1;33m)\u001b[0m\u001b[1;33m\u001b[0m\u001b[1;33m\u001b[0m\u001b[0m\n\u001b[0m\u001b[0;32m     19\u001b[0m             \u001b[0mprint\u001b[0m\u001b[1;33m(\u001b[0m\u001b[1;34m\"Finished gradient descent\"\u001b[0m\u001b[1;33m)\u001b[0m\u001b[1;33m\u001b[0m\u001b[1;33m\u001b[0m\u001b[0m\n\u001b[0;32m     20\u001b[0m             \u001b[0mdag\u001b[0m\u001b[1;33m.\u001b[0m\u001b[0madjacency_matrix\u001b[0m \u001b[1;33m=\u001b[0m \u001b[0mbest\u001b[0m\u001b[1;33m\u001b[0m\u001b[1;33m\u001b[0m\u001b[0m\n",
      "\u001b[1;32mc:\\Users\\jakob\\Documents\\Puk2\\PUK\\Code\\gradient_descent.py\u001b[0m in \u001b[0;36mgradient_descent\u001b[1;34m(dag, VERBOSE, num_iterations, lr, adaptive)\u001b[0m\n\u001b[0;32m     73\u001b[0m             \u001b[0mdelta\u001b[0m \u001b[1;33m=\u001b[0m \u001b[0mnp\u001b[0m\u001b[1;33m.\u001b[0m\u001b[0mzeros\u001b[0m\u001b[1;33m(\u001b[0m\u001b[0mn\u001b[0m\u001b[1;33m)\u001b[0m\u001b[1;33m\u001b[0m\u001b[1;33m\u001b[0m\u001b[0m\n\u001b[0;32m     74\u001b[0m             \u001b[0mdelta\u001b[0m\u001b[1;33m[\u001b[0m\u001b[0mj\u001b[0m\u001b[1;33m]\u001b[0m \u001b[1;33m=\u001b[0m \u001b[0mh\u001b[0m\u001b[1;33m\u001b[0m\u001b[1;33m\u001b[0m\u001b[0m\n\u001b[1;32m---> 75\u001b[1;33m             \u001b[0mgradient\u001b[0m\u001b[1;33m[\u001b[0m\u001b[0mj\u001b[0m\u001b[1;33m]\u001b[0m \u001b[1;33m=\u001b[0m \u001b[1;33m(\u001b[0m\u001b[0mloss_fn\u001b[0m\u001b[1;33m(\u001b[0m\u001b[0mcurrent_guess\u001b[0m \u001b[1;33m+\u001b[0m \u001b[0mdelta\u001b[0m\u001b[1;33m,\u001b[0m \u001b[0mbool_adj\u001b[0m\u001b[1;33m)\u001b[0m \u001b[1;33m-\u001b[0m \u001b[0mloss_fn\u001b[0m\u001b[1;33m(\u001b[0m\u001b[0mcurrent_guess\u001b[0m \u001b[1;33m-\u001b[0m \u001b[0mdelta\u001b[0m\u001b[1;33m,\u001b[0m \u001b[0mbool_adj\u001b[0m\u001b[1;33m)\u001b[0m\u001b[1;33m)\u001b[0m \u001b[1;33m/\u001b[0m \u001b[1;33m(\u001b[0m\u001b[1;36m2\u001b[0m \u001b[1;33m*\u001b[0m \u001b[0mh\u001b[0m\u001b[1;33m)\u001b[0m\u001b[1;33m\u001b[0m\u001b[1;33m\u001b[0m\u001b[0m\n\u001b[0m\u001b[0;32m     76\u001b[0m \u001b[1;33m\u001b[0m\u001b[0m\n\u001b[0;32m     77\u001b[0m         \u001b[1;31m# Update the parameters using gradient descent\u001b[0m\u001b[1;33m\u001b[0m\u001b[1;33m\u001b[0m\u001b[1;33m\u001b[0m\u001b[0m\n",
      "\u001b[1;32mc:\\Users\\jakob\\Documents\\Puk2\\PUK\\Code\\gradient_descent.py\u001b[0m in \u001b[0;36mloss_fn\u001b[1;34m(x, bool_adj)\u001b[0m\n\u001b[0;32m     33\u001b[0m \u001b[1;33m\u001b[0m\u001b[0m\n\u001b[0;32m     34\u001b[0m     \u001b[0md\u001b[0m \u001b[1;33m=\u001b[0m \u001b[0mDAG\u001b[0m\u001b[1;33m(\u001b[0m\u001b[0mn\u001b[0m \u001b[1;33m=\u001b[0m \u001b[0mbool_adj\u001b[0m\u001b[1;33m.\u001b[0m\u001b[0mshape\u001b[0m\u001b[1;33m[\u001b[0m\u001b[1;36m0\u001b[0m\u001b[1;33m]\u001b[0m\u001b[1;33m,\u001b[0m \u001b[0mstrength\u001b[0m\u001b[1;33m=\u001b[0m\u001b[1;36m2\u001b[0m\u001b[1;33m,\u001b[0m \u001b[0mprecalculate_paths\u001b[0m \u001b[1;33m=\u001b[0m \u001b[1;32mFalse\u001b[0m\u001b[1;33m,\u001b[0m \u001b[0madjacency_matrix\u001b[0m \u001b[1;33m=\u001b[0m \u001b[0mad\u001b[0m\u001b[1;33m)\u001b[0m\u001b[1;33m\u001b[0m\u001b[1;33m\u001b[0m\u001b[0m\n\u001b[1;32m---> 35\u001b[1;33m     \u001b[1;32mreturn\u001b[0m \u001b[0md\u001b[0m\u001b[1;33m.\u001b[0m\u001b[0mget_continous_varsortability\u001b[0m\u001b[1;33m(\u001b[0m\u001b[0msimulated\u001b[0m \u001b[1;33m=\u001b[0m \u001b[1;32mTrue\u001b[0m\u001b[1;33m,\u001b[0m \u001b[0mN\u001b[0m \u001b[1;33m=\u001b[0m \u001b[1;36m100000\u001b[0m\u001b[1;33m)\u001b[0m\u001b[1;33m[\u001b[0m\u001b[1;34m\"simulated\"\u001b[0m\u001b[1;33m]\u001b[0m\u001b[1;33m\u001b[0m\u001b[1;33m\u001b[0m\u001b[0m\n\u001b[0m\u001b[0;32m     36\u001b[0m \u001b[1;33m\u001b[0m\u001b[0m\n\u001b[0;32m     37\u001b[0m \u001b[1;33m\u001b[0m\u001b[0m\n",
      "\u001b[1;32mc:\\Users\\jakob\\Documents\\Puk2\\PUK\\Code\\DAG.py\u001b[0m in \u001b[0;36mget_continous_varsortability\u001b[1;34m(self, analytical, simulated, smart, N)\u001b[0m\n\u001b[0;32m    112\u001b[0m             \u001b[0m_return\u001b[0m\u001b[1;33m[\u001b[0m\u001b[1;34m\"analytical\"\u001b[0m\u001b[1;33m]\u001b[0m \u001b[1;33m=\u001b[0m \u001b[0manalytical\u001b[0m\u001b[1;33m\u001b[0m\u001b[1;33m\u001b[0m\u001b[0m\n\u001b[0;32m    113\u001b[0m         \u001b[1;32mif\u001b[0m \u001b[0msimulated\u001b[0m\u001b[1;33m:\u001b[0m\u001b[1;33m\u001b[0m\u001b[1;33m\u001b[0m\u001b[0m\n\u001b[1;32m--> 114\u001b[1;33m             \u001b[0msim\u001b[0m \u001b[1;33m=\u001b[0m \u001b[0mself\u001b[0m\u001b[1;33m.\u001b[0m\u001b[0mget_simulated_var\u001b[0m\u001b[1;33m(\u001b[0m\u001b[0mN\u001b[0m\u001b[1;33m)\u001b[0m\u001b[1;33m\u001b[0m\u001b[1;33m\u001b[0m\u001b[0m\n\u001b[0m\u001b[0;32m    115\u001b[0m             \u001b[0msimulated\u001b[0m \u001b[1;33m=\u001b[0m \u001b[0mself\u001b[0m\u001b[1;33m.\u001b[0m\u001b[0mcontinous_varsortability\u001b[0m\u001b[1;33m(\u001b[0m\u001b[0msim\u001b[0m\u001b[1;33m)\u001b[0m\u001b[1;33m\u001b[0m\u001b[1;33m\u001b[0m\u001b[0m\n\u001b[0;32m    116\u001b[0m             \u001b[0m_return\u001b[0m\u001b[1;33m[\u001b[0m\u001b[1;34m\"simulated\"\u001b[0m\u001b[1;33m]\u001b[0m \u001b[1;33m=\u001b[0m \u001b[0msimulated\u001b[0m\u001b[1;33m\u001b[0m\u001b[1;33m\u001b[0m\u001b[0m\n",
      "\u001b[1;32mc:\\Users\\jakob\\Documents\\Puk2\\PUK\\Code\\DAG.py\u001b[0m in \u001b[0;36mget_simulated_var\u001b[1;34m(self, N)\u001b[0m\n\u001b[0;32m    237\u001b[0m \u001b[1;33m\u001b[0m\u001b[0m\n\u001b[0;32m    238\u001b[0m     \u001b[1;32mdef\u001b[0m \u001b[0mget_simulated_var\u001b[0m\u001b[1;33m(\u001b[0m\u001b[0mself\u001b[0m\u001b[1;33m,\u001b[0m \u001b[0mN\u001b[0m \u001b[1;33m=\u001b[0m \u001b[1;36m100\u001b[0m\u001b[1;33m)\u001b[0m\u001b[1;33m:\u001b[0m\u001b[1;33m\u001b[0m\u001b[1;33m\u001b[0m\u001b[0m\n\u001b[1;32m--> 239\u001b[1;33m         \u001b[1;32mreturn\u001b[0m \u001b[0mself\u001b[0m\u001b[1;33m.\u001b[0m\u001b[0mget_simulated_data\u001b[0m\u001b[1;33m(\u001b[0m\u001b[0mN\u001b[0m\u001b[1;33m)\u001b[0m\u001b[1;33m.\u001b[0m\u001b[0mvar\u001b[0m\u001b[1;33m(\u001b[0m\u001b[0maxis\u001b[0m \u001b[1;33m=\u001b[0m \u001b[1;36m1\u001b[0m\u001b[1;33m)\u001b[0m\u001b[1;33m\u001b[0m\u001b[1;33m\u001b[0m\u001b[0m\n\u001b[0m\u001b[0;32m    240\u001b[0m \u001b[1;33m\u001b[0m\u001b[0m\n\u001b[0;32m    241\u001b[0m     \u001b[1;32mdef\u001b[0m \u001b[0mmutate\u001b[0m\u001b[1;33m(\u001b[0m\u001b[0mself\u001b[0m\u001b[1;33m,\u001b[0m \u001b[0mp\u001b[0m \u001b[1;33m=\u001b[0m \u001b[1;36m0.5\u001b[0m\u001b[1;33m)\u001b[0m\u001b[1;33m:\u001b[0m\u001b[1;33m\u001b[0m\u001b[1;33m\u001b[0m\u001b[0m\n",
      "\u001b[1;32mc:\\Users\\jakob\\Documents\\Puk2\\PUK\\Code\\DAG.py\u001b[0m in \u001b[0;36mget_simulated_data\u001b[1;34m(self, N)\u001b[0m\n\u001b[0;32m    289\u001b[0m                 \u001b[0mvisited\u001b[0m\u001b[1;33m.\u001b[0m\u001b[0mappend\u001b[0m\u001b[1;33m(\u001b[0m\u001b[0mroot\u001b[0m\u001b[1;33m)\u001b[0m\u001b[1;33m\u001b[0m\u001b[1;33m\u001b[0m\u001b[0m\n\u001b[0;32m    290\u001b[0m                 \u001b[1;31m# add bias\u001b[0m\u001b[1;33m\u001b[0m\u001b[1;33m\u001b[0m\u001b[1;33m\u001b[0m\u001b[0m\n\u001b[1;32m--> 291\u001b[1;33m                 \u001b[0mvalues\u001b[0m\u001b[1;33m[\u001b[0m\u001b[0mroot\u001b[0m\u001b[1;33m]\u001b[0m \u001b[1;33m+=\u001b[0m \u001b[0mnp\u001b[0m\u001b[1;33m.\u001b[0m\u001b[0mrandom\u001b[0m\u001b[1;33m.\u001b[0m\u001b[0mnormal\u001b[0m\u001b[1;33m(\u001b[0m\u001b[1;36m0\u001b[0m\u001b[1;33m,\u001b[0m \u001b[0mself\u001b[0m\u001b[1;33m.\u001b[0m\u001b[0mbiass\u001b[0m\u001b[1;33m[\u001b[0m\u001b[0mroot\u001b[0m\u001b[1;33m]\u001b[0m\u001b[1;33m,\u001b[0m \u001b[0mN\u001b[0m\u001b[1;33m)\u001b[0m\u001b[1;33m\u001b[0m\u001b[1;33m\u001b[0m\u001b[0m\n\u001b[0m\u001b[0;32m    292\u001b[0m \u001b[1;33m\u001b[0m\u001b[0m\n\u001b[0;32m    293\u001b[0m                 \u001b[1;31m# propagate values\u001b[0m\u001b[1;33m\u001b[0m\u001b[1;33m\u001b[0m\u001b[1;33m\u001b[0m\u001b[0m\n",
      "\u001b[1;31mKeyboardInterrupt\u001b[0m: "
     ]
    }
   ],
   "source": [
    "size = 5\n",
    "\n",
    "num_iterations = 2\n",
    "\n",
    "sweep = np.linspace(0.1, 1, 2)\n",
    "\n",
    "\n",
    "results = np.zeros((len(sweep), num_iterations))\n",
    "actual_connections = np.zeros((len(sweep), num_iterations))\n",
    "\n",
    "lrs = [0.1, 0.01, 0.01, 0.001, 0.0001]\n",
    "for i, connectivity in tqdm(enumerate(sweep), total = len(sweep)):\n",
    "    for j in tqdm(range(num_iterations)):\n",
    "        for l in range(5):\n",
    "            dag = DAG(n = size, strength=2, connectivity = connectivity)\n",
    "            actual_connections[i,j] = (dag.adjacency_matrix != 0).sum()\n",
    "            print(\"Starting gradient descent\")\n",
    "            best = gradient_descent(dag, num_iterations = 50*(), lr = lrs[l], VERBOSE = False)\n",
    "            print(\"Finished gradient descent\")\n",
    "            dag.adjacency_matrix = best\n",
    "            vs = dag.get_varsortability(smart = True, N = 10000000)\n",
    "            if vs[\"smart\"] < 1:\n",
    "                break\n",
    "            else: \n",
    "                print(\"Failed to converge, trying again\")\n",
    "        results[i,j] = vs[\"smart\"]\n"
   ]
  },
  {
   "cell_type": "code",
   "execution_count": 12,
   "metadata": {},
   "outputs": [
    {
     "data": {
      "text/plain": [
       "array([0.1, 0.2, 0.3, 0.4, 0.5, 0.6, 0.7, 0.8, 0.9, 1. ])"
      ]
     },
     "execution_count": 12,
     "metadata": {},
     "output_type": "execute_result"
    }
   ],
   "source": [
    "np.linspace(0.1, 1, 10)"
   ]
  },
  {
   "cell_type": "code",
   "execution_count": 4,
   "metadata": {},
   "outputs": [],
   "source": [
    "# save as csv files\n",
    "np.savetxt(\"results_10.csv\", results, delimiter=\",\")\n",
    "np.savetxt(\"actual_connections_10.csv\", actual_connections, delimiter=\",\")"
   ]
  },
  {
   "cell_type": "code",
   "execution_count": 5,
   "metadata": {},
   "outputs": [
    {
     "data": {
      "image/png": "[encoded data removed]",
      "text/plain": [
       "<Figure size 720x432 with 1 Axes>"
      ]
     },
     "metadata": {
      "needs_background": "light"
     },
     "output_type": "display_data"
    }
   ],
   "source": [
    "# make the plot\n",
    "\n",
    "color = \"#1f77b4\"\n",
    "\n",
    "mean, std = np.mean(results, axis = 1), np.std(results, axis = 1)\n",
    "\n",
    "_max, _min = np.max(results, axis = 1), np.min(results, axis = 1)\n",
    "\n",
    "fig, ax = plt.subplots(figsize = (10, 6))\n",
    "ax.plot(sweep, np.mean(results, axis = 1), '--', label = \"Mean\", color = color)\n",
    "# make error bars\n",
    "ax.fill_between(sweep, _min, _max, alpha = 0.1, label = \"Min and max\", color = color)\n",
    "ax.errorbar(sweep, mean, yerr = std, fmt = 'o', label = \"Mean and std\", capsize = 5, color = color)\n",
    "\n",
    "ax.set_xlabel(\"Connectivity for 5x5 DAGs\")\n",
    "ax.set_ylabel(\"Varsortability after Gradient Descent\")\n",
    "ax.legend()\n",
    "\n",
    "plt.title(\"Varsortability after Gradient Descent for random 5x5 DAGs\")\n",
    "plt.show()"
   ]
  },
  {
   "cell_type": "code",
   "execution_count": 8,
   "metadata": {},
   "outputs": [
    {
     "name": "stdout",
     "output_type": "stream",
     "text": [
      "Starting gradient descent\n",
      "Iteration 0: loss = 9.467\n",
      "current_guess: [-0.88717038  2.          1.41794801  1.26923252  2.         -0.06696657\n",
      "  1.04803132]\n",
      "varsortability: 1.0\n",
      "Iteration 1: loss = 9.233\n",
      "Iteration 2: loss = 9.560\n",
      "Iteration 3: loss = 9.578\n",
      "Iteration 4: loss = 9.491\n",
      "Iteration 5: loss = 9.459\n",
      "Iteration 6: loss = 9.565\n",
      "Iteration 7: loss = 9.511\n",
      "Iteration 8: loss = 8.259\n",
      "Iteration 9: loss = 9.391\n",
      "Iteration 10: loss = 9.291\n",
      "Iteration 11: loss = 8.065\n",
      "Iteration 12: loss = 8.039\n",
      "Iteration 13: loss = 7.517\n",
      "Iteration 14: loss = 7.818\n",
      "Iteration 15: loss = 8.011\n",
      "Iteration 16: loss = 9.609\n",
      "Iteration 17: loss = 9.548\n",
      "Iteration 18: loss = 9.395\n",
      "Iteration 19: loss = 9.291\n",
      "Iteration 20: loss = 9.397\n",
      "Iteration 21: loss = 9.189\n",
      "Iteration 22: loss = 9.197\n",
      "Iteration 23: loss = 9.346\n",
      "Iteration 24: loss = 9.581\n",
      "Iteration 25: loss = 9.551\n",
      "Iteration 26: loss = 9.481\n",
      "Iteration 27: loss = 9.412\n",
      "Iteration 28: loss = 9.590\n",
      "Iteration 29: loss = 9.560\n",
      "Iteration 30: loss = 9.555\n",
      "Iteration 31: loss = 9.540\n",
      "Iteration 32: loss = 9.564\n",
      "Iteration 33: loss = 9.501\n",
      "Iteration 34: loss = 9.342\n",
      "Iteration 35: loss = 9.391\n",
      "Iteration 36: loss = 9.384\n",
      "Iteration 37: loss = 9.440\n",
      "Iteration 38: loss = 9.503\n",
      "Iteration 39: loss = 9.568\n",
      "Iteration 40: loss = 9.514\n",
      "Iteration 41: loss = 9.379\n",
      "Iteration 42: loss = 9.385\n",
      "Iteration 43: loss = 9.272\n",
      "Iteration 44: loss = 9.206\n",
      "Iteration 45: loss = 8.181\n",
      "Iteration 46: loss = 7.946\n",
      "Iteration 47: loss = 7.975\n",
      "Iteration 48: loss = 7.820\n",
      "Iteration 49: loss = 5.808\n"
     ]
    },
    {
     "data": {
      "text/plain": [
       "{'smart': 0.7272727272727273}"
      ]
     },
     "execution_count": 8,
     "metadata": {},
     "output_type": "execute_result"
    }
   ],
   "source": [
    "size = 5\n",
    "dag = DAG(n = size, strength=2, connectivity = 0.4)\n",
    "print(\"Starting gradient descent\")\n",
    "best = gradient_descent(dag, num_iterations = 50, lr = 0.001, VERBOSE = True)\n",
    "dag.adjacency_matrix = best\n",
    "dag.get_varsortability(smart = True, N = 10000000)"
   ]
  },
  {
   "cell_type": "code",
   "execution_count": 9,
   "metadata": {},
   "outputs": [
    {
     "data": {
      "text/plain": [
       "1"
      ]
     },
     "execution_count": 9,
     "metadata": {},
     "output_type": "execute_result"
    }
   ],
   "source": [
    "min(4,1)"
   ]
  }
 ],
 "metadata": {
  "kernelspec": {
   "display_name": "base",
   "language": "python",
   "name": "python3"
  },
  "language_info": {
   "codemirror_mode": {
    "name": "ipython",
    "version": 3
   },
   "file_extension": ".py",
   "mimetype": "text/x-python",
   "name": "python",
   "nbconvert_exporter": "python",
   "pygments_lexer": "ipython3",
   "version": "3.6.13"
  },
  "orig_nbformat": 4
 },
 "nbformat": 4,
 "nbformat_minor": 2
}
