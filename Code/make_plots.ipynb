{
 "cells": [
  {
   "cell_type": "code",
   "execution_count": 1,
   "metadata": {},
   "outputs": [],
   "source": [
    "import numpy as np\n",
    "import matplotlib.pyplot as plt\n",
    "from pyvis.network import Network\n",
    "from DAG import DAG\n",
    "from gradient_descent import gradient_descent\n",
    "from tqdm.notebook import tqdm"
   ]
  },
  {
   "attachments": {},
   "cell_type": "markdown",
   "metadata": {},
   "source": [
    "# Sweep connectivity"
   ]
  },
  {
   "cell_type": "code",
   "execution_count": 3,
   "metadata": {},
   "outputs": [
    {
     "data": {
      "application/vnd.jupyter.widget-view+json": {
       "model_id": "0a20635d9d3244138b6c1e9eae2859e8",
       "version_major": 2,
       "version_minor": 0
      },
      "text/plain": [
       "  0%|          | 0/10 [00:00<?, ?it/s]"
      ]
     },
     "metadata": {},
     "output_type": "display_data"
    },
    {
     "data": {
      "application/vnd.jupyter.widget-view+json": {
       "model_id": "d4c959a5d8d0483f9e6cdd141df3d08b",
       "version_major": 2,
       "version_minor": 0
      },
      "text/plain": [
       "  0%|          | 0/3 [00:00<?, ?it/s]"
      ]
     },
     "metadata": {},
     "output_type": "display_data"
    },
    {
     "name": "stdout",
     "output_type": "stream",
     "text": [
      "Starting gradient descent\n",
      "Finished gradient descent\n",
      "Starting gradient descent\n",
      "Finished gradient descent\n",
      "Starting gradient descent\n",
      "Finished gradient descent\n"
     ]
    },
    {
     "data": {
      "application/vnd.jupyter.widget-view+json": {
       "model_id": "42ada3a30d774dc88cc1b9b9c3b2185b",
       "version_major": 2,
       "version_minor": 0
      },
      "text/plain": [
       "  0%|          | 0/3 [00:00<?, ?it/s]"
      ]
     },
     "metadata": {},
     "output_type": "display_data"
    },
    {
     "name": "stdout",
     "output_type": "stream",
     "text": [
      "Starting gradient descent\n",
      "Finished gradient descent\n",
      "Starting gradient descent\n",
      "Finished gradient descent\n",
      "Starting gradient descent\n",
      "Finished gradient descent\n"
     ]
    },
    {
     "data": {
      "application/vnd.jupyter.widget-view+json": {
       "model_id": "cf25394f163e43519506bb7582522845",
       "version_major": 2,
       "version_minor": 0
      },
      "text/plain": [
       "  0%|          | 0/3 [00:00<?, ?it/s]"
      ]
     },
     "metadata": {},
     "output_type": "display_data"
    },
    {
     "name": "stdout",
     "output_type": "stream",
     "text": [
      "Starting gradient descent\n",
      "Finished gradient descent\n",
      "Starting gradient descent\n",
      "Finished gradient descent\n",
      "Starting gradient descent\n",
      "Finished gradient descent\n"
     ]
    },
    {
     "data": {
      "application/vnd.jupyter.widget-view+json": {
       "model_id": "85c488c4873e444a8dd1587d7ac59078",
       "version_major": 2,
       "version_minor": 0
      },
      "text/plain": [
       "  0%|          | 0/3 [00:00<?, ?it/s]"
      ]
     },
     "metadata": {},
     "output_type": "display_data"
    },
    {
     "name": "stdout",
     "output_type": "stream",
     "text": [
      "Starting gradient descent\n",
      "Finished gradient descent\n",
      "Starting gradient descent\n",
      "Finished gradient descent\n",
      "Starting gradient descent\n",
      "Finished gradient descent\n"
     ]
    },
    {
     "data": {
      "application/vnd.jupyter.widget-view+json": {
       "model_id": "e20e089c19a94c839fd3bb1300d9d62d",
       "version_major": 2,
       "version_minor": 0
      },
      "text/plain": [
       "  0%|          | 0/3 [00:00<?, ?it/s]"
      ]
     },
     "metadata": {},
     "output_type": "display_data"
    },
    {
     "name": "stdout",
     "output_type": "stream",
     "text": [
      "Starting gradient descent\n",
      "Finished gradient descent\n",
      "Starting gradient descent\n",
      "Finished gradient descent\n",
      "Starting gradient descent\n",
      "Finished gradient descent\n"
     ]
    },
    {
     "data": {
      "application/vnd.jupyter.widget-view+json": {
       "model_id": "f09345d03e9d441c91df3b4b44d5d092",
       "version_major": 2,
       "version_minor": 0
      },
      "text/plain": [
       "  0%|          | 0/3 [00:00<?, ?it/s]"
      ]
     },
     "metadata": {},
     "output_type": "display_data"
    },
    {
     "name": "stdout",
     "output_type": "stream",
     "text": [
      "Starting gradient descent\n",
      "Finished gradient descent\n",
      "Starting gradient descent\n",
      "Finished gradient descent\n",
      "Starting gradient descent\n",
      "Finished gradient descent\n"
     ]
    },
    {
     "data": {
      "application/vnd.jupyter.widget-view+json": {
       "model_id": "4e1450f2e9f849b98b29899722dc22d2",
       "version_major": 2,
       "version_minor": 0
      },
      "text/plain": [
       "  0%|          | 0/3 [00:00<?, ?it/s]"
      ]
     },
     "metadata": {},
     "output_type": "display_data"
    },
    {
     "name": "stdout",
     "output_type": "stream",
     "text": [
      "Starting gradient descent\n",
      "Finished gradient descent\n",
      "Starting gradient descent\n",
      "Finished gradient descent\n",
      "Starting gradient descent\n",
      "Finished gradient descent\n"
     ]
    },
    {
     "data": {
      "application/vnd.jupyter.widget-view+json": {
       "model_id": "586d233bb0194c3895a06e105d11cffa",
       "version_major": 2,
       "version_minor": 0
      },
      "text/plain": [
       "  0%|          | 0/3 [00:00<?, ?it/s]"
      ]
     },
     "metadata": {},
     "output_type": "display_data"
    },
    {
     "name": "stdout",
     "output_type": "stream",
     "text": [
      "Starting gradient descent\n",
      "Finished gradient descent\n",
      "Starting gradient descent\n",
      "Finished gradient descent\n",
      "Starting gradient descent\n",
      "Finished gradient descent\n"
     ]
    },
    {
     "data": {
      "application/vnd.jupyter.widget-view+json": {
       "model_id": "8b7959ee36804e0585d6216c8fa643d1",
       "version_major": 2,
       "version_minor": 0
      },
      "text/plain": [
       "  0%|          | 0/3 [00:00<?, ?it/s]"
      ]
     },
     "metadata": {},
     "output_type": "display_data"
    },
    {
     "name": "stdout",
     "output_type": "stream",
     "text": [
      "Starting gradient descent\n",
      "Finished gradient descent\n",
      "Starting gradient descent\n",
      "Finished gradient descent\n",
      "Starting gradient descent\n",
      "Finished gradient descent\n"
     ]
    },
    {
     "data": {
      "application/vnd.jupyter.widget-view+json": {
       "model_id": "b3ef7b11afe24a2c8ba71123a494eb62",
       "version_major": 2,
       "version_minor": 0
      },
      "text/plain": [
       "  0%|          | 0/3 [00:00<?, ?it/s]"
      ]
     },
     "metadata": {},
     "output_type": "display_data"
    },
    {
     "name": "stdout",
     "output_type": "stream",
     "text": [
      "Starting gradient descent\n",
      "Finished gradient descent\n",
      "Starting gradient descent\n",
      "Finished gradient descent\n",
      "Starting gradient descent\n",
      "Finished gradient descent\n"
     ]
    }
   ],
   "source": [
    "size = 10\n",
    "\n",
    "num_iterations = 3\n",
    "\n",
    "sweep = np.linspace(0.1, 1, 10)\n",
    "\n",
    "results = np.zeros((len(sweep), num_iterations))\n",
    "actual_connections = np.zeros((len(sweep), num_iterations))\n",
    "\n",
    "\n",
    "for i, connectivity in tqdm(enumerate(sweep), total = len(sweep)):\n",
    "    for j in tqdm(range(num_iterations)):\n",
    "        dag = DAG(n = size, strength=2, connectivity = connectivity)\n",
    "        actual_connections[i,j] = (dag.adjacency_matrix != 0).sum()\n",
    "        print(\"Starting gradient descent\")\n",
    "        best = gradient_descent(dag, num_iterations = 50, lr = 0.2, VERBOSE = False)\n",
    "        print(\"Finished gradient descent\")\n",
    "        dag.adjacency_matrix = best\n",
    "        vs = dag.get_varsortability(smart = True, N = 10000000)\n",
    "        results[i,j] = vs[\"smart\"]\n"
   ]
  },
  {
   "cell_type": "code",
   "execution_count": 4,
   "metadata": {},
   "outputs": [],
   "source": [
    "# save as csv files\n",
    "np.savetxt(\"results_10.csv\", results, delimiter=\",\")\n",
    "np.savetxt(\"actual_connections_10.csv\", actual_connections, delimiter=\",\")"
   ]
  },
  {
   "cell_type": "code",
   "execution_count": 5,
   "metadata": {},
   "outputs": [
    {
     "data": {
      "image/png": "[encoded data removed]",
      "text/plain": [
       "<Figure size 720x432 with 1 Axes>"
      ]
     },
     "metadata": {
      "needs_background": "light"
     },
     "output_type": "display_data"
    }
   ],
   "source": [
    "# make the plot\n",
    "\n",
    "color = \"#1f77b4\"\n",
    "\n",
    "mean, std = np.mean(results, axis = 1), np.std(results, axis = 1)\n",
    "\n",
    "_max, _min = np.max(results, axis = 1), np.min(results, axis = 1)\n",
    "\n",
    "fig, ax = plt.subplots(figsize = (10, 6))\n",
    "ax.plot(sweep, np.mean(results, axis = 1), '--', label = \"Mean\", color = color)\n",
    "# make error bars\n",
    "ax.fill_between(sweep, _min, _max, alpha = 0.1, label = \"Min and max\", color = color)\n",
    "ax.errorbar(sweep, mean, yerr = std, fmt = 'o', label = \"Mean and std\", capsize = 5, color = color)\n",
    "\n",
    "ax.set_xlabel(\"Connectivity for 5x5 DAGs\")\n",
    "ax.set_ylabel(\"Varsortability after Gradient Descent\")\n",
    "ax.legend()\n",
    "\n",
    "plt.title(\"Varsortability after Gradient Descent for random 5x5 DAGs\")\n",
    "plt.show()"
   ]
  },
  {
   "cell_type": "code",
   "execution_count": 13,
   "metadata": {},
   "outputs": [
    {
     "data": {
      "text/plain": [
       "{'simulated': 0.998025666337611, 'smart': 0.9757575757575757}"
      ]
     },
     "execution_count": 13,
     "metadata": {},
     "output_type": "execute_result"
    }
   ],
   "source": [
    "dag.adjacency_matrix = best\n",
    "\n",
    "dag.get_varsortability(smart = True, simulated = True, N = 10000000)"
   ]
  },
  {
   "cell_type": "code",
   "execution_count": 8,
   "metadata": {},
   "outputs": [
    {
     "name": "stdout",
     "output_type": "stream",
     "text": [
      "Iteration 0: loss = 77.404\n",
      "current_guess: [ 2.          0.57108856  2.          0.6479618   1.84234088 -1.11114339\n",
      "  1.29691135 -0.5         1.24454039 -2.          2.         -1.24153029\n",
      " -1.68560885 -1.02321741  1.83372085  0.5         0.80100982  0.5\n",
      "  0.5         2.          2.          0.5         0.99227682  2.\n",
      " -0.5         0.96791821  1.52344594  1.6674249  -1.47604862  2.\n",
      "  2.          0.75099472  0.5        -1.02241696 -0.5         0.8059551\n",
      " -0.5         0.5        -0.5         1.33229011  0.94199681  0.5\n",
      "  2.         -1.67075719 -0.5       ]\n",
      "varsortability: 0.9757575757575757\n",
      "Iteration 1: loss = 82.844\n",
      "Iteration 2: loss = 83.241\n",
      "Iteration 3: loss = 79.662\n",
      "Iteration 4: loss = 70.606\n",
      "Iteration 5: loss = 80.071\n",
      "Iteration 6: loss = 82.280\n",
      "Iteration 7: loss = 75.567\n",
      "Iteration 8: loss = 85.538\n",
      "Iteration 9: loss = 76.677\n",
      "Iteration 10: loss = 69.602\n",
      "Iteration 11: loss = 77.069\n",
      "Iteration 12: loss = 78.825\n",
      "Iteration 13: loss = 84.529\n",
      "Iteration 14: loss = 80.998\n",
      "Iteration 15: loss = 73.567\n",
      "Iteration 16: loss = 82.528\n",
      "Iteration 17: loss = 80.371\n",
      "Iteration 18: loss = 63.774\n",
      "Iteration 19: loss = 83.855\n",
      "Iteration 20: loss = 85.449\n",
      "Iteration 21: loss = 83.428\n",
      "Iteration 22: loss = 71.594\n",
      "Iteration 23: loss = 77.039\n",
      "Iteration 24: loss = 77.751\n",
      "Iteration 25: loss = 82.998\n",
      "Iteration 26: loss = 80.115\n",
      "Iteration 27: loss = 62.995\n",
      "Iteration 28: loss = 81.673\n",
      "Iteration 29: loss = 73.278\n",
      "Iteration 30: loss = 77.140\n",
      "Iteration 31: loss = 74.683\n",
      "Iteration 32: loss = 74.084\n",
      "Iteration 33: loss = 77.310\n",
      "Iteration 34: loss = 80.000\n",
      "Iteration 35: loss = 74.982\n",
      "Iteration 36: loss = 78.881\n",
      "Iteration 37: loss = 79.875\n",
      "Iteration 38: loss = 68.333\n",
      "Iteration 39: loss = 79.735\n",
      "Iteration 40: loss = 77.982\n",
      "Iteration 41: loss = 67.502\n",
      "Iteration 42: loss = 78.920\n",
      "Iteration 43: loss = 77.763\n",
      "Iteration 44: loss = 76.074\n",
      "Iteration 45: loss = 70.202\n",
      "Iteration 46: loss = 75.066\n",
      "Iteration 47: loss = 64.778\n",
      "Iteration 48: loss = 77.720\n",
      "Iteration 49: loss = 77.143\n",
      "Iteration 50: loss = 80.957\n",
      "current_guess: [-0.5         2.          2.          1.71285089 -2.         -2.\n",
      "  0.5        -2.          2.          2.         -2.          2.\n",
      "  2.         -1.03728116 -2.         -2.         -2.         -2.\n",
      "  2.          2.          1.15259178 -2.          1.8871472   0.57615389\n",
      "  2.          0.5         2.         -2.         -2.          1.52996662\n",
      " -2.         -2.          2.          2.         -0.52604638  2.\n",
      "  2.         -2.          2.         -2.         -2.          1.6167317\n",
      " -2.          2.         -2.        ]\n",
      "varsortability: 0.9333333333333333\n"
     ]
    }
   ],
   "source": [
    "dag = DAG(n = 10, strength=2, connectivity = 1)\n",
    "best = gradient_descent(dag, num_iterations = 51, lr = 1e-2, VERBOSE = True)\n"
   ]
  }
 ],
 "metadata": {
  "kernelspec": {
   "display_name": "base",
   "language": "python",
   "name": "python3"
  },
  "language_info": {
   "codemirror_mode": {
    "name": "ipython",
    "version": 3
   },
   "file_extension": ".py",
   "mimetype": "text/x-python",
   "name": "python",
   "nbconvert_exporter": "python",
   "pygments_lexer": "ipython3",
   "version": "3.6.13"
  },
  "orig_nbformat": 4
 },
 "nbformat": 4,
 "nbformat_minor": 2
}
