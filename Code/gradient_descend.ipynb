{
 "cells": [
  {
   "cell_type": "code",
   "execution_count": null,
   "metadata": {},
   "outputs": [],
   "source": [
    "# gradient descent in pytorch\n",
    "\n",
    "import torch\n",
    "import numpy as np\n",
    "\n",
    "\n",
    "learning_rate = 1e-6\n",
    "\n",
    "start_adj = np.array([[0,1,0,1,1],[0,0,1,1,1],[0,0,0,1,1],[0,0,0,0,1],[0,0,0,0,0]]).astype(float)\n",
    "\n",
    "optimizer = torch.optim.SGD([x], lr=learning_rate, momentum=0.9)\n",
    "\n",
    "\n",
    "def loss_fn(x):\n",
    "    ad = np.zeros_like(start_adj)\n",
    "    k = 0\n",
    "    for i in range(5):\n",
    "        for j in range(5):\n",
    "            if start_adj[i,j] == 1:\n",
    "                ad[i,j] = x[k]\n",
    "                k += 1\n",
    "    \n",
    "    d = DAG(n = 5, roots = 1, strength=2, precalculate_paths = False, adjacency_matrix = ad)\n",
    "    return d.get_continous_varsortability(analytical = False, simulated = True, N = 1000000)[\"simulated\"]\n",
    "\n",
    "x = torch.tensor([1,1,1,1,1,1,1,1,1], requires_grad = True)\n",
    "\n",
    "for t in range(2000):\n",
    "    loss = loss_fn(x)\n",
    "\n",
    "    if t % 100 == 99:\n",
    "        print(t, loss.item())\n",
    "    \n",
    "    loss.backward()\n",
    "\n",
    "    with torch.no_grad():\n",
    "        x -= learning_rate * x.grad\n",
    "        x.grad.zero_()\n",
    "\n",
    "\n",
    "    "
   ]
  }
 ],
 "metadata": {
  "language_info": {
   "name": "python"
  },
  "orig_nbformat": 4
 },
 "nbformat": 4,
 "nbformat_minor": 2
}
