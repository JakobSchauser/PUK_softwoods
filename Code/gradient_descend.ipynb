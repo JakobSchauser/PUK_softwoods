{
 "cells": [
  {
   "cell_type": "code",
   "execution_count": 1,
   "metadata": {},
   "outputs": [
    {
     "ename": "NameError",
     "evalue": "name 'x' is not defined",
     "output_type": "error",
     "traceback": [
      "\u001b[1;31m---------------------------------------------------------------------------\u001b[0m",
      "\u001b[1;31mNameError\u001b[0m                                 Traceback (most recent call last)",
      "\u001b[1;32m<ipython-input-1-5906695acd27>\u001b[0m in \u001b[0;36m<module>\u001b[1;34m\u001b[0m\n\u001b[0;32m      8\u001b[0m \u001b[1;33m\u001b[0m\u001b[0m\n\u001b[0;32m      9\u001b[0m \u001b[1;33m\u001b[0m\u001b[0m\n\u001b[1;32m---> 10\u001b[1;33m \u001b[0moptimizer\u001b[0m \u001b[1;33m=\u001b[0m \u001b[0mtorch\u001b[0m\u001b[1;33m.\u001b[0m\u001b[0moptim\u001b[0m\u001b[1;33m.\u001b[0m\u001b[0mSGD\u001b[0m\u001b[1;33m(\u001b[0m\u001b[1;33m[\u001b[0m\u001b[0mx\u001b[0m\u001b[1;33m]\u001b[0m\u001b[1;33m,\u001b[0m \u001b[0mlr\u001b[0m\u001b[1;33m=\u001b[0m\u001b[0mlearning_rate\u001b[0m\u001b[1;33m,\u001b[0m \u001b[0mmomentum\u001b[0m\u001b[1;33m=\u001b[0m\u001b[1;36m0.9\u001b[0m\u001b[1;33m)\u001b[0m\u001b[1;33m\u001b[0m\u001b[1;33m\u001b[0m\u001b[0m\n\u001b[0m\u001b[0;32m     11\u001b[0m \u001b[1;33m\u001b[0m\u001b[0m\n\u001b[0;32m     12\u001b[0m \u001b[1;33m\u001b[0m\u001b[0m\n",
      "\u001b[1;31mNameError\u001b[0m: name 'x' is not defined"
     ]
    }
   ],
   "source": [
    "# gradient descent in pytorch\n",
    "\n",
    "import torch\n",
    "import numpy as np\n",
    "from DAG import DAG\n",
    "\n",
    "learning_rate = 1e-6\n",
    "\n",
    "\n",
    "optimizer = torch.optim.SGD([x], lr=learning_rate, momentum=0.9)\n",
    "\n",
    "\n",
    "def loss_fn(x):\n",
    "    ad = np.zeros_like(start_adj)\n",
    "    k = 0\n",
    "    for i in range(5):\n",
    "        for j in range(5):\n",
    "            if start_adj[i,j] == 1:\n",
    "                ad[i,j] = x[k]\n",
    "                k += 1\n",
    "    \n",
    "    d = DAG(n = 5, roots = 1, strength=2, precalculate_paths = False, adjacency_matrix = ad)\n",
    "    return d.get_continous_varsortability(analytical = True, simulated = False, N = 1000000)[\"analytical\"]\n",
    "\n",
    "\n",
    "\n",
    "x = torch.tensor([1,1,1,1,1,1,1,1,1], requires_grad = True)\n",
    "\n",
    "\n",
    "\n",
    "for t in range(2000):\n",
    "    loss = loss_fn(x)\n",
    "\n",
    "    if t % 100 == 99:\n",
    "        print(t, loss.item())\n",
    "    \n",
    "    loss.backward()\n",
    "\n",
    "    with torch.no_grad():\n",
    "        x -= learning_rate * x.grad\n",
    "        x.grad.zero_()\n",
    "\n",
    "\n",
    "    "
   ]
  }
 ],
 "metadata": {
  "kernelspec": {
   "display_name": "base",
   "language": "python",
   "name": "python3"
  },
  "language_info": {
   "codemirror_mode": {
    "name": "ipython",
    "version": 3
   },
   "file_extension": ".py",
   "mimetype": "text/x-python",
   "name": "python",
   "nbconvert_exporter": "python",
   "pygments_lexer": "ipython3",
   "version": "3.6.13"
  },
  "orig_nbformat": 4
 },
 "nbformat": 4,
 "nbformat_minor": 2
}
