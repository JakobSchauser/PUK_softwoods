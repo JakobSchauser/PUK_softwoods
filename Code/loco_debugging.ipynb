{
 "cells": [
  {
   "cell_type": "code",
   "execution_count": 2,
   "metadata": {},
   "outputs": [],
   "source": [
    "import numpy as np\n",
    "from LoCo_algorithm import *\n",
    "from DAG import *"
   ]
  },
  {
   "cell_type": "code",
   "execution_count": 6,
   "metadata": {},
   "outputs": [],
   "source": [
    "dag = DAG(n =  10, biass='uniform' , roots=1, precalculate_paths=False, integer=False, connectivity=1)\n",
    "\n",
    "_, new_varsort = run_loco(dag, update_by_varsort=False, maximize_top_n=None ,\n",
    "                            VERBOSE=False, check_ways=False, flip_up_to=None, N=1000)"
   ]
  },
  {
   "cell_type": "code",
   "execution_count": 7,
   "metadata": {},
   "outputs": [
    {
     "name": "stdout",
     "output_type": "stream",
     "text": [
      "0.8553571428571428\n"
     ]
    }
   ],
   "source": [
    "print(new_varsort)"
   ]
  }
 ],
 "metadata": {
  "kernelspec": {
   "display_name": "base",
   "language": "python",
   "name": "python3"
  },
  "language_info": {
   "codemirror_mode": {
    "name": "ipython",
    "version": 3
   },
   "file_extension": ".py",
   "mimetype": "text/x-python",
   "name": "python",
   "nbconvert_exporter": "python",
   "pygments_lexer": "ipython3",
   "version": "3.8.8"
  },
  "orig_nbformat": 4
 },
 "nbformat": 4,
 "nbformat_minor": 2
}
