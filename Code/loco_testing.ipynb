{
 "cells": [
  {
   "cell_type": "code",
   "execution_count": 143,
   "metadata": {},
   "outputs": [
    {
     "name": "stdout",
     "output_type": "stream",
     "text": [
      "Old varsortability: 0.93\n",
      "New varsortability: 0.93\n"
     ]
    }
   ],
   "source": [
    "import numpy as np\n",
    "from DAG import DAG\n",
    "from itertools import combinations\n",
    "\n",
    "\n",
    "def all_combinations(_list, up_to = 1):\n",
    "    for i in range(1, up_to + 1):\n",
    "        for c in combinations(_list, i):\n",
    "            yield c\n",
    "\n",
    "\n",
    "def run_loco(dag, update_by_varsort=False, maximize_top_n=None , VERBOSE=False, check_ways=False, flip_up_to=None):\n",
    "\n",
    "    mat = dag.adjacency_matrix.copy() # copy adjacency matrix to be safe\n",
    "    mat = (mat != 0).astype(int) #convert to int\n",
    "    final_adj = dag.adjacency_matrix.copy() #final adjacency matrix, which will be returned\n",
    "\n",
    "    # If no maximal flips are given all flips are allowed\n",
    "    if not flip_up_to:\n",
    "        flip_up_to = mat.shape[0]\n",
    "\n",
    "    start_varsort = dag.get_varsortability( analytical = False, simulated = False, smart = True, N = 10000)['smart']\n",
    "    start_vars = dag.get_smart_var()\n",
    "\n",
    "    for node in range(dag.size):\n",
    "        if VERBOSE:\n",
    "            print(\"node\", node)\n",
    "        ways_into_node = np.where(mat[:, node] != 0)[0]\n",
    "        if len(ways_into_node) < 2:\n",
    "            continue\n",
    "\n",
    "        ways = np.empty((len(ways_into_node), dag.size))\n",
    "        \n",
    "        if check_ways:\n",
    "            for i, way_into_node in enumerate(ways_into_node):\n",
    "                mat2 = mat.copy()\n",
    "                mat2[:, node] = 0 #Setting all ways into node 0\n",
    "                mat2[way_into_node, node] = 1 #Setting 1 way into node again\n",
    "                \n",
    "                # Finding all ancestors to the node which has a path through way_into_node \n",
    "                exp = np.zeros_like(mat2) \n",
    "                for n_exp in range(dag.size):\n",
    "                    exp += np.linalg.matrix_power(mat2, n_exp)\n",
    "                exp[node, node] = 0\n",
    "\n",
    "                exp = exp != 0 #Converting to boolean\n",
    "\n",
    "                ways[i] = exp[:, node] #Noting the ancestors\n",
    "\n",
    "            n_ways = ways.sum(axis = 0) #Number of paths from ancestors that terminate in the node through different ways in \n",
    "\n",
    "            usable_ways = set([])\n",
    "\n",
    "            for parent in range(node):\n",
    "                if n_ways[parent] < 2:\n",
    "                    continue\n",
    "                \n",
    "                wh = np.where(ways[:, parent] > 0)[0]\n",
    "                \n",
    "                usable_ways |= set(ways_into_node[wh]) #finding set of ways that can be flipped for minimizing variance\n",
    "\n",
    "            if VERBOSE:\n",
    "                print(\"for node\",node)\n",
    "                print(\"the ways that has covariance are:\", usable_ways)\n",
    "\n",
    "\n",
    "            usable_ways = list(usable_ways)\n",
    "        else:\n",
    "            usable_ways = list(set(ways_into_node))\n",
    "\n",
    "        # try all combinations using itertools combinations\n",
    "        all_combinations_up_to = list(all_combinations(usable_ways, flip_up_to))\n",
    "\n",
    "        vars = [start_vars[node]]\n",
    "        for _all in all_combinations_up_to:\n",
    "            matrix_w_flip = final_adj.copy()\n",
    "\n",
    "            #Do the flippy-flip \n",
    "            for uw in _all:\n",
    "                matrix_w_flip[uw, node] *= -1\n",
    "\n",
    "            # Calculate new variance of node\n",
    "            new_dag = DAG(n = dag.size, adjacency_matrix = matrix_w_flip, integer = dag.integer) #maybe implement function without initializing DAG\n",
    "            if update_by_varsort:\n",
    "                var = new_varsort = new_dag.get_varsortability( analytical = False, simulated = False, smart = True, N = 1000)['smart']\n",
    "            else:\n",
    "                var = new_dag.get_smart_var(1000)[node]\n",
    "\n",
    "            vars.append(var)\n",
    "\n",
    "        # Minimizing or maximizing variance\n",
    "        if maximize_top_n and not(update_by_varsort):\n",
    "            if node > maximize_top_n:\n",
    "                index = np.argmin(vars)\n",
    "            else:\n",
    "                index = np.argmax(vars)\n",
    "        else:\n",
    "            index = np.argmin(vars)\n",
    "\n",
    "        if index != 0:\n",
    "            index -= 1\n",
    "            if VERBOSE:\n",
    "                print(\"flipping the way from\", all_combinations_up_to[index], \"to\", node)\n",
    "            for way in all_combinations_up_to[index]:\n",
    "                final_adj[way, node] *= -1\n",
    "\n",
    "    if VERBOSE:\n",
    "        print(\"final adj:\")\n",
    "        print(final_adj)\n",
    "        print(\"final var:\")\n",
    "\n",
    "    result_dag = DAG(adjacency_matrix = final_adj, integer = dag.integer)\n",
    "\n",
    "    new_varsort = result_dag.get_varsortability( analytical = False, simulated = False, smart = True, N = 10000)['smart']\n",
    "\n",
    "    print(f'Old varsortability: {start_varsort:.2f}')\n",
    "    print(f'New varsortability: {new_varsort:.2f}')\n",
    "\n",
    "    return result_dag\n",
    "\n",
    "\n",
    "def bruteforce_flip(dag):\n",
    "    n = dag.size\n",
    "    tot_n = n*(n-1)//2\n",
    "\n",
    "    getpos = lambda x: list(zip(*np.where(np.triu(np.ones((n,n)), 1) - np.eye(n)== 1)))[x]\n",
    "\n",
    "\n",
    "    best = dag.get_varsortability(smart = True, N=1000)[\"smart\"]\n",
    "    best_adj = dag.adjacency_matrix.copy()\n",
    "    best_vars = dag.get_smart_var(N=1000)\n",
    "\n",
    "\n",
    "    ac = list(all_combinations(range(tot_n), tot_n))\n",
    "    for c in tqdm(ac, total = len(ac)):\n",
    "        adj = dag.adjacency_matrix.copy()\n",
    "        for pos in c:\n",
    "            i,j = getpos(pos)\n",
    "            adj[i,j] *= -1\n",
    "\n",
    "        newdag = DAG(adjacency_matrix=dag.adjacency_matrix, integer = dag.integer)\n",
    "        vs = newdag.get_varsortability(smart = True, N = 1000)[\"smart\"]\n",
    "\n",
    "        if vs < best:\n",
    "            best = vs\n",
    "            best_vars = newdag.get_smart_var(N=1000)\n",
    "            best_adj = adj.copy()\n",
    "            print(\"new best:\", best)\n",
    "            print(c)\n",
    "            print(\"\")\n",
    "\n",
    "    print(\"best:\", best)\n",
    "    print(best_adj)\n",
    "    print(best_vars)\n",
    "\n",
    "    return None\n",
    "\n",
    "if __name__ == '__main__':\n",
    "    np.random.seed(43)\n",
    "    test_dag = DAG(n = 5, roots=1, precalculate_paths=False, integer=False, connectivity=.8)\n",
    "    run_loco(test_dag, check_ways=True)"
   ]
  },
  {
   "cell_type": "code",
   "execution_count": 136,
   "metadata": {},
   "outputs": [
    {
     "name": "stdout",
     "output_type": "stream",
     "text": [
      "Old varsortability: 0.96\n",
      "New varsortability: 0.65\n"
     ]
    }
   ],
   "source": [
    "np.random.seed(41)\n",
    "test_dag = DAG(n = 12, roots=1, precalculate_paths=False, integer=False, connectivity=1)\n",
    "# print(test_dag.adjacency_matrix)\n",
    "new_dag = run_loco(test_dag,update_by_varsort=False, check_ways=False, VERBOSE=False, maximize_top_n=5)\n",
    "# print(new_dag.adjacency_matrix)\n"
   ]
  },
  {
   "cell_type": "code",
   "execution_count": 146,
   "metadata": {},
   "outputs": [
    {
     "name": "stderr",
     "output_type": "stream",
     "text": [
      "  0%|          | 140/32767 [00:00<00:45, 711.05it/s]"
     ]
    },
    {
     "name": "stdout",
     "output_type": "stream",
     "text": [
      "new best: 0.9142857142857143\n",
      "(11,)\n",
      "\n"
     ]
    },
    {
     "name": "stderr",
     "output_type": "stream",
     "text": [
      " 50%|█████     | 16453/32767 [00:20<00:14, 1146.24it/s]"
     ]
    },
    {
     "name": "stdout",
     "output_type": "stream",
     "text": [
      "new best: 0.8857142857142857\n",
      "(4, 7, 8, 9, 10, 11, 14)\n",
      "\n"
     ]
    },
    {
     "name": "stderr",
     "output_type": "stream",
     "text": [
      "100%|██████████| 32767/32767 [00:39<00:00, 832.45it/s] "
     ]
    },
    {
     "name": "stdout",
     "output_type": "stream",
     "text": [
      "best: 0.8857142857142857\n",
      "[[ 0.          1.51522436  1.40579853 -0.62382823  0.92455045 -1.221753  ]\n",
      " [ 0.          0.         -1.5279846   1.41233969 -1.09086232 -1.05953209]\n",
      " [ 0.          0.          0.         -1.61202783 -0.98433729  1.57849752]\n",
      " [ 0.          0.          0.          0.         -0.81599117  1.58225096]\n",
      " [ 0.          0.          0.          0.          0.         -0.86659649]\n",
      " [ 0.          0.          0.          0.          0.          0.        ]]\n",
      "[ 1.02376723  3.43079379  4.35079241  4.69506259  4.70907273 41.97839121]\n"
     ]
    },
    {
     "name": "stderr",
     "output_type": "stream",
     "text": [
      "\n"
     ]
    }
   ],
   "source": [
    "np.random.seed(41)\n",
    "test_dag = DAG(n = 6, roots=1, precalculate_paths=False, integer=False, connectivity=1)\n",
    "bruteforce_flip(test_dag)"
   ]
  },
  {
   "cell_type": "code",
   "execution_count": 185,
   "metadata": {},
   "outputs": [
    {
     "name": "stdout",
     "output_type": "stream",
     "text": [
      "Old varsortability: 0.98\n",
      "New varsortability: 0.69\n"
     ]
    }
   ],
   "source": [
    "np.random.seed(42)\n",
    "test_dag = DAG(n = 13, roots=1, precalculate_paths=False, integer=False, connectivity=1)\n",
    "new_dag = run_loco(test_dag,update_by_varsort=False, check_ways=False, VERBOSE=False, maximize_top_n=5)"
   ]
  },
  {
   "cell_type": "code",
   "execution_count": 12,
   "metadata": {},
   "outputs": [
    {
     "data": {
      "text/plain": [
       "array([1, 2], dtype=int64)"
      ]
     },
     "execution_count": 12,
     "metadata": {},
     "output_type": "execute_result"
    }
   ],
   "source": [
    "import numpy as np\n",
    "mat = np.array([[0,1,1],[0,0,0],[0,0,0]])\n",
    "np.where(mat[0] != 0)[0]"
   ]
  },
  {
   "cell_type": "code",
   "execution_count": null,
   "metadata": {},
   "outputs": [],
   "source": []
  }
 ],
 "metadata": {
  "kernelspec": {
   "display_name": "base",
   "language": "python",
   "name": "python3"
  },
  "language_info": {
   "codemirror_mode": {
    "name": "ipython",
    "version": 3
   },
   "file_extension": ".py",
   "mimetype": "text/x-python",
   "name": "python",
   "nbconvert_exporter": "python",
   "pygments_lexer": "ipython3",
   "version": "3.8.8"
  },
  "orig_nbformat": 4
 },
 "nbformat": 4,
 "nbformat_minor": 2
}
