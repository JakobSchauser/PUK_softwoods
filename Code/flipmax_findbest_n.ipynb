{
 "cells": [
  {
   "cell_type": "code",
   "execution_count": 11,
   "metadata": {},
   "outputs": [],
   "source": [
    "import numpy as np\n",
    "from LoCo_algorithm import *\n",
    "from DAG import *"
   ]
  },
  {
   "cell_type": "code",
   "execution_count": 41,
   "metadata": {},
   "outputs": [
    {
     "name": "stdout",
     "output_type": "stream",
     "text": [
      "[0.2 0.4 0.6 0.8 1. ]\n"
     ]
    }
   ],
   "source": [
    "#range of nodes\n",
    "node_range = np.array([5,10,15,20])\n",
    "\n",
    "#range of connectivity\n",
    "con_range = np.arange(0.1,1.1,0.1)\n",
    "\n",
    "#number of repetitions\n",
    "num_reps = 3\n",
    "\n",
    "#number of samples used when finding variance etc.\n",
    "n_samp = 1000"
   ]
  },
  {
   "cell_type": "code",
   "execution_count": 42,
   "metadata": {},
   "outputs": [],
   "source": [
    "node5_max = np.zeros((len(con_range), 5))\n",
    "node5_stand = np.zeros((len(con_range), 5))\n",
    "\n",
    "node10_max = np.zeros((len(con_range), 10))\n",
    "node10_stand = np.zeros((len(con_range), 10))\n",
    "\n",
    "node13_max = np.zeros((len(con_range), 13))\n",
    "node13_stand = np.zeros((len(con_range), 13))\n",
    "\n",
    "node15_max = np.zeros((len(con_range), 15))\n",
    "node15_stand = np.zeros((len(con_range), 15))\n",
    "\n",
    "node_arr_lst = [(node5_max, node5_stand), (node10_max, node10_stand), (node13_max, node13_stand), (node15_max, node15_stand)]"
   ]
  },
  {
   "cell_type": "code",
   "execution_count": null,
   "metadata": {},
   "outputs": [],
   "source": [
    "print('Starting on flipmax \\n')\n",
    "\n",
    "for i,node_number in enumerate(node_range):\n",
    "    print(f'Starting on node number: {node_number}')\n",
    "    for j,max_top_n in enumerate(range(1,node_number+1)):\n",
    "        for k,con in enumerate(con_range):\n",
    "            flipmax_varsort_lst = []\n",
    "            standard_varsort_lst = []\n",
    "            for reps in range(num_reps):\n",
    "                dag = DAG(n = node_number, biass='uniform' , roots=1, precalculate_paths=False, integer=False, connectivity=con)\n",
    "                standard_varsort_lst.append( dag.get_varsortability(smart=True , N=5000)['smart'] )\n",
    "                _, new_varsort = run_loco(dag, update_by_varsort=False, maximize_top_n=max_top_n ,\n",
    "                                        VERBOSE=False, check_ways=False, flip_up_to=None, N=n_samp)\n",
    "                flipmax_varsort_lst.append(new_varsort)\n",
    "                \n",
    "            node_arr_lst[i][0][k,j] = np.array(flipmax_varsort_lst).mean()\n",
    "            node_arr_lst[i][1][k,j] = np.array(standard_varsort_lst).mean()"
   ]
  },
  {
   "cell_type": "code",
   "execution_count": null,
   "metadata": {},
   "outputs": [],
   "source": [
    "np.savetxt('node5_max.txt', node5_max)\n",
    "np.savetxt('node5_stand.txt', node5_stand)\n",
    "\n",
    "np.savetxt('node10_max.txt', node10_max)\n",
    "np.savetxt('node10_stand.txt', node10_stand)\n",
    "\n",
    "np.savetxt('node13_max.txt', node13_max)\n",
    "np.savetxt('node13_stand.txt', node13_stand)\n",
    "\n",
    "np.savetxt('node15_max.txt', node15_max)\n",
    "np.savetxt('node15_stand.txt', node15_stand)"
   ]
  }
 ],
 "metadata": {
  "kernelspec": {
   "display_name": "base",
   "language": "python",
   "name": "python3"
  },
  "language_info": {
   "codemirror_mode": {
    "name": "ipython",
    "version": 3
   },
   "file_extension": ".py",
   "mimetype": "text/x-python",
   "name": "python",
   "nbconvert_exporter": "python",
   "pygments_lexer": "ipython3",
   "version": "3.8.8"
  },
  "orig_nbformat": 4
 },
 "nbformat": 4,
 "nbformat_minor": 2
}
